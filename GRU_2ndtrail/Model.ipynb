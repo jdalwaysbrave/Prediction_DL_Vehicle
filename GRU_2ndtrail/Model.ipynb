{
 "cells": [
  {
   "cell_type": "code",
   "execution_count": 1,
   "metadata": {},
   "outputs": [],
   "source": [
    "# Machine Learning Model \n",
    "# LSTM\n",
    "# Train Data\n",
    "# x_train lat,lon,distance,speed,time diff\n",
    "# y_train pred_lat,pred_lon\n",
    "\n",
    "# !pip install pandas\n",
    "# !pip install scikit-learn\n",
    "# !pip install matplotlib\n",
    "\n",
    "import pandas as pd\n",
    "import matplotlib.pyplot as plt\n",
    "\n",
    "\n"
   ]
  },
  {
   "cell_type": "code",
   "execution_count": 2,
   "metadata": {},
   "outputs": [],
   "source": [
    "# for kaggle!!--------------------------------\n",
    "# import os\n",
    "# for dirname, _, filenames in os.walk('/kaggle/input'):\n",
    "#     for filename in filenames:\n",
    "#         print(os.path.join(dirname, filename))\n",
    "# end for kaggle!!------------------------------\n",
    "\n",
    "\n",
    "df = pd.read_csv('DataSet.csv')"
   ]
  },
  {
   "cell_type": "code",
   "execution_count": 3,
   "metadata": {},
   "outputs": [],
   "source": [
    "train_x = df[['Global_Time','Global_X','Global_Y','v_Vel','v_Acc']]\n",
    "train_y=df[['Pred_X','Pred_Y']]"
   ]
  },
  {
   "cell_type": "code",
   "execution_count": 4,
   "metadata": {},
   "outputs": [
    {
     "name": "stdout",
     "output_type": "stream",
     "text": [
      "      Global_Time     Global_X     Global_Y  v_Vel  v_Acc\n",
      "2414         2414  679947.6212  419871.2260  27.69    0.0\n",
      "2415         2415  679947.4313  419872.0486  27.69    0.0\n",
      "2416         2416  679947.2414  419872.8710  27.69    0.0\n",
      "           Pred_X       Pred_Y\n",
      "2414  679947.4313  419872.0486\n",
      "2415  679947.2414  419872.8710\n",
      "2416  679947.2414  419872.8710\n"
     ]
    }
   ],
   "source": [
    "\n",
    "print(train_x.tail(3))\n",
    "\n",
    "\n",
    "print(train_y.tail(3))"
   ]
  },
  {
   "cell_type": "code",
   "execution_count": 5,
   "metadata": {},
   "outputs": [
    {
     "data": {
      "text/plain": [
       "(2417, 5)"
      ]
     },
     "execution_count": 5,
     "metadata": {},
     "output_type": "execute_result"
    }
   ],
   "source": [
    "import numpy as np\n",
    "# convert pandas dataframe to numpy array\n",
    "\n",
    "x_data = train_x.values\n",
    "x_data = np.array(x_data)\n",
    "# x_data = x_data.reshape(19828,5,1)\n",
    "x_data.shape"
   ]
  },
  {
   "cell_type": "code",
   "execution_count": 6,
   "metadata": {},
   "outputs": [
    {
     "data": {
      "text/plain": [
       "(2417, 2)"
      ]
     },
     "execution_count": 6,
     "metadata": {},
     "output_type": "execute_result"
    }
   ],
   "source": [
    "y_data = train_y.values\n",
    "y_data.shape"
   ]
  },
  {
   "cell_type": "code",
   "execution_count": 7,
   "metadata": {},
   "outputs": [
    {
     "name": "stdout",
     "output_type": "stream",
     "text": [
      "X_data shape : (2417, 5)\n",
      "new X_data shape : (2417, 5, 1)\n",
      "y_data shape : (2417, 2)\n",
      "new y_data shape : (2417, 2)\n"
     ]
    }
   ],
   "source": [
    "# Preporcessing Normalizing Valuse\n",
    "\n",
    "from sklearn.preprocessing import MinMaxScaler\n",
    "sc = MinMaxScaler(feature_range=(-1,1))\n",
    "# new_df= x_data[].reshape(x_data.shape[0],5)\n",
    "new_x_data = sc.fit_transform(x_data)\n",
    "new_x_data = new_x_data.reshape(2417,5,1)\n",
    "\n",
    "print('X_data shape :', x_data.shape)\n",
    "print('new X_data shape :', new_x_data.shape)\n",
    "\n",
    "\n",
    "\n",
    "new_y_data = sc.fit_transform(y_data)\n",
    "\n",
    "print('y_data shape :', y_data.shape)\n",
    "print('new y_data shape :', new_y_data.shape)\n"
   ]
  },
  {
   "cell_type": "code",
   "execution_count": null,
   "metadata": {},
   "outputs": [],
   "source": [
    "# new_x_data.reshape(new_x_data.shape[0],5,1)\n"
   ]
  },
  {
   "cell_type": "code",
   "execution_count": null,
   "metadata": {},
   "outputs": [],
   "source": [
    "# for inversing transform\n",
    "\n",
    "\n",
    "new_df.reshape(2417,5)\n",
    "new_df = sc.inverse_transform(new_df)\n",
    "new_df.reshape(new_df.shape[0],5,1)\n"
   ]
  },
  {
   "cell_type": "code",
   "execution_count": 9,
   "metadata": {},
   "outputs": [],
   "source": [
    "import tensorflow as tf\n",
    "\n",
    "\n",
    "\n",
    "from tensorflow.python.keras.models import Sequential\n",
    "from tensorflow.python.keras.layers.recurrent import LSTM,RNN\n",
    "from tensorflow.python.keras.layers.core import Dense, Activation, Dropout\n",
    "\n",
    "from sklearn.preprocessing import MinMaxScaler\n",
    "from sklearn.metrics import mean_squared_error\n",
    "from sklearn.utils import shuffle\n",
    "from sklearn.model_selection import train_test_split\n",
    "\n",
    "\n"
   ]
  },
  {
   "cell_type": "code",
   "execution_count": 10,
   "metadata": {},
   "outputs": [],
   "source": [
    "x_train, x_test, y_train, y_test = train_test_split(new_x_data, new_y_data, test_size=0.33, random_state=42)\n",
    "\n"
   ]
  },
  {
   "cell_type": "code",
   "execution_count": 11,
   "metadata": {},
   "outputs": [
    {
     "name": "stdout",
     "output_type": "stream",
     "text": [
      "(1619, 5, 1)\n",
      "(1619, 2)\n",
      "(798, 5, 1)\n",
      "(798, 2)\n"
     ]
    }
   ],
   "source": [
    "print(x_train.shape)\n",
    "print(y_train.shape)\n",
    "print(x_test.shape)\n",
    "print(y_test.shape)\n"
   ]
  },
  {
   "cell_type": "code",
   "execution_count": 12,
   "metadata": {},
   "outputs": [
    {
     "name": "stdout",
     "output_type": "stream",
     "text": [
      "Model: \"sequential\"\n",
      "_________________________________________________________________\n",
      "Layer (type)                 Output Shape              Param #   \n",
      "=================================================================\n",
      "lstm (LSTM)                  (None, 5, 50)             10400     \n",
      "_________________________________________________________________\n",
      "dropout (Dropout)            (None, 5, 50)             0         \n",
      "_________________________________________________________________\n",
      "lstm_1 (LSTM)                (None, 5, 100)            60400     \n",
      "_________________________________________________________________\n",
      "dropout_1 (Dropout)          (None, 5, 100)            0         \n",
      "_________________________________________________________________\n",
      "lstm_2 (LSTM)                (None, 50)                30200     \n",
      "_________________________________________________________________\n",
      "dropout_2 (Dropout)          (None, 50)                0         \n",
      "_________________________________________________________________\n",
      "dense (Dense)                (None, 2)                 102       \n",
      "=================================================================\n",
      "Total params: 101,102\n",
      "Trainable params: 101,102\n",
      "Non-trainable params: 0\n",
      "_________________________________________________________________\n"
     ]
    }
   ],
   "source": [
    "model = Sequential()\n",
    "\n",
    "# first layer\n",
    "model.add(LSTM(units=50, batch_input_shape=(None,5,1),return_sequences=True))\n",
    "model.add(Dropout(0.2))\n",
    "\n",
    "# second layer\n",
    "# model.add(Dense(128, 1))\n",
    "model.add(LSTM(units=100,return_sequences=True))\n",
    "model.add(Dropout(0.2))\n",
    "\n",
    "# third layer\n",
    "model.add(LSTM(units=50,return_sequences=False))\n",
    "model.add(Dropout(0.2))\n",
    "\n",
    "# fourth dense layer\n",
    "model.add(Dense(units=2))\n",
    "\n",
    "\n",
    "model.compile(loss='mean_absolute_error',optimizer='adam',metrics=['accuracy'])\n",
    "model.summary()\n",
    "          \n",
    "\n",
    "'''\n",
    "LSTM层的units数：增加units数可以增加模型的表达能力，但也会增加模型的复杂度和训练时间。因此，可以尝试不同的units数并找到一个合适的值。\n",
    "\n",
    "Dropout层的比率：增加Dropout比率可以减少过拟合的风险，但过高的Dropout比率会影响模型的性能。因此，可以尝试不同的Dropout比率并找到一个合适的值。\n",
    "\n",
    "学习率(learning rate)：Adam优化器默认的学习率通常可以正常工作，但有时候需要手动调整学习率以加速或稳定训练过程。\n",
    "\n",
    "批量大小(batch size)：批量大小会影响模型的训练速度和内存占用情况。通常情况下，使用大批量大小可以加快训练速度，但也会占用更多的内存。\n",
    "\n",
    "训练轮数(epochs)：增加训练轮数可以提高模型的精度，但也会增加训练时间。可以使用早停法(early stopping)等技术来提高模型的训练效率。\n",
    "'''\n"
   ]
  },
  {
   "cell_type": "code",
   "execution_count": 13,
   "metadata": {},
   "outputs": [
    {
     "name": "stdout",
     "output_type": "stream",
     "text": [
      "Epoch 1/200\n",
      "51/51 [==============================] - 7s 25ms/step - loss: 0.3427 - accuracy: 0.7060 - val_loss: 0.1161 - val_accuracy: 0.7707\n",
      "Epoch 2/200\n",
      "51/51 [==============================] - 1s 11ms/step - loss: 0.1290 - accuracy: 0.7338 - val_loss: 0.0925 - val_accuracy: 0.7594\n",
      "Epoch 3/200\n",
      "51/51 [==============================] - 1s 11ms/step - loss: 0.1216 - accuracy: 0.7486 - val_loss: 0.0942 - val_accuracy: 0.8208\n",
      "Epoch 4/200\n",
      "51/51 [==============================] - 1s 10ms/step - loss: 0.1217 - accuracy: 0.7245 - val_loss: 0.0962 - val_accuracy: 0.8371\n",
      "Epoch 5/200\n",
      "51/51 [==============================] - 1s 10ms/step - loss: 0.1189 - accuracy: 0.7221 - val_loss: 0.0850 - val_accuracy: 0.7193\n",
      "Epoch 6/200\n",
      "51/51 [==============================] - 1s 12ms/step - loss: 0.1167 - accuracy: 0.7344 - val_loss: 0.0845 - val_accuracy: 0.6454\n",
      "Epoch 7/200\n",
      "51/51 [==============================] - 1s 11ms/step - loss: 0.1109 - accuracy: 0.7690 - val_loss: 0.0849 - val_accuracy: 0.9449\n",
      "Epoch 8/200\n",
      "51/51 [==============================] - 1s 11ms/step - loss: 0.1144 - accuracy: 0.7443 - val_loss: 0.0810 - val_accuracy: 0.7857\n",
      "Epoch 9/200\n",
      "51/51 [==============================] - 1s 11ms/step - loss: 0.1088 - accuracy: 0.7949 - val_loss: 0.0755 - val_accuracy: 0.7832\n",
      "Epoch 10/200\n",
      "51/51 [==============================] - 1s 13ms/step - loss: 0.1086 - accuracy: 0.7980 - val_loss: 0.0753 - val_accuracy: 0.9561\n",
      "Epoch 11/200\n",
      "51/51 [==============================] - 1s 11ms/step - loss: 0.1055 - accuracy: 0.8104 - val_loss: 0.0771 - val_accuracy: 0.7744\n",
      "Epoch 12/200\n",
      "51/51 [==============================] - 1s 12ms/step - loss: 0.1041 - accuracy: 0.7863 - val_loss: 0.0748 - val_accuracy: 0.6892\n",
      "Epoch 13/200\n",
      "51/51 [==============================] - 1s 12ms/step - loss: 0.1007 - accuracy: 0.8301 - val_loss: 0.0688 - val_accuracy: 0.9248\n",
      "Epoch 14/200\n",
      "51/51 [==============================] - 1s 10ms/step - loss: 0.0969 - accuracy: 0.7918 - val_loss: 0.0694 - val_accuracy: 0.9148\n",
      "Epoch 15/200\n",
      "51/51 [==============================] - 1s 10ms/step - loss: 0.0916 - accuracy: 0.8141 - val_loss: 0.0648 - val_accuracy: 0.8195\n",
      "Epoch 16/200\n",
      "51/51 [==============================] - 1s 11ms/step - loss: 0.0924 - accuracy: 0.8246 - val_loss: 0.0641 - val_accuracy: 0.8935\n",
      "Epoch 17/200\n",
      "51/51 [==============================] - 1s 10ms/step - loss: 0.0868 - accuracy: 0.8338 - val_loss: 0.0590 - val_accuracy: 0.9248\n",
      "Epoch 18/200\n",
      "51/51 [==============================] - 1s 11ms/step - loss: 0.0840 - accuracy: 0.8295 - val_loss: 0.0535 - val_accuracy: 0.8208\n",
      "Epoch 19/200\n",
      "51/51 [==============================] - 1s 10ms/step - loss: 0.0830 - accuracy: 0.8419 - val_loss: 0.0525 - val_accuracy: 0.9449\n",
      "Epoch 20/200\n",
      "51/51 [==============================] - 1s 10ms/step - loss: 0.0831 - accuracy: 0.8443 - val_loss: 0.0514 - val_accuracy: 0.9662\n",
      "Epoch 21/200\n",
      "51/51 [==============================] - 1s 10ms/step - loss: 0.0821 - accuracy: 0.8604 - val_loss: 0.0481 - val_accuracy: 0.9536\n",
      "Epoch 22/200\n",
      "51/51 [==============================] - 1s 12ms/step - loss: 0.0781 - accuracy: 0.8598 - val_loss: 0.0651 - val_accuracy: 0.9411\n",
      "Epoch 23/200\n",
      "51/51 [==============================] - 1s 11ms/step - loss: 0.0761 - accuracy: 0.8468 - val_loss: 0.0457 - val_accuracy: 0.9724\n",
      "Epoch 24/200\n",
      "51/51 [==============================] - 1s 11ms/step - loss: 0.0818 - accuracy: 0.8518 - val_loss: 0.0594 - val_accuracy: 0.8421\n",
      "Epoch 25/200\n",
      "51/51 [==============================] - 1s 11ms/step - loss: 0.0757 - accuracy: 0.8481 - val_loss: 0.0474 - val_accuracy: 0.8396\n",
      "Epoch 26/200\n",
      "51/51 [==============================] - 1s 10ms/step - loss: 0.0738 - accuracy: 0.8456 - val_loss: 0.0520 - val_accuracy: 0.9637\n",
      "Epoch 27/200\n",
      "51/51 [==============================] - 1s 11ms/step - loss: 0.0746 - accuracy: 0.8419 - val_loss: 0.0482 - val_accuracy: 0.8972\n",
      "Epoch 28/200\n",
      "51/51 [==============================] - 1s 10ms/step - loss: 0.0728 - accuracy: 0.8721 - val_loss: 0.0514 - val_accuracy: 0.9950\n",
      "Epoch 29/200\n",
      "51/51 [==============================] - 1s 11ms/step - loss: 0.0734 - accuracy: 0.8579 - val_loss: 0.0456 - val_accuracy: 0.8972\n",
      "Epoch 30/200\n",
      "51/51 [==============================] - 1s 11ms/step - loss: 0.0724 - accuracy: 0.8641 - val_loss: 0.0390 - val_accuracy: 0.9261\n",
      "Epoch 31/200\n",
      "51/51 [==============================] - 1s 11ms/step - loss: 0.0693 - accuracy: 0.8746 - val_loss: 0.0361 - val_accuracy: 0.9474\n",
      "Epoch 32/200\n",
      "51/51 [==============================] - 1s 12ms/step - loss: 0.0709 - accuracy: 0.8833 - val_loss: 0.0346 - val_accuracy: 0.9348\n",
      "Epoch 33/200\n",
      "51/51 [==============================] - 1s 11ms/step - loss: 0.0674 - accuracy: 0.8808 - val_loss: 0.0334 - val_accuracy: 0.8784\n",
      "Epoch 34/200\n",
      "51/51 [==============================] - 1s 12ms/step - loss: 0.0681 - accuracy: 0.8672 - val_loss: 0.0330 - val_accuracy: 0.9348\n",
      "Epoch 35/200\n",
      "51/51 [==============================] - 1s 11ms/step - loss: 0.0672 - accuracy: 0.8783 - val_loss: 0.0296 - val_accuracy: 0.9411\n",
      "Epoch 36/200\n",
      "51/51 [==============================] - 1s 13ms/step - loss: 0.0671 - accuracy: 0.8586 - val_loss: 0.0334 - val_accuracy: 0.9962\n",
      "Epoch 37/200\n",
      "51/51 [==============================] - 1s 11ms/step - loss: 0.0671 - accuracy: 0.8783 - val_loss: 0.0304 - val_accuracy: 0.8747\n",
      "Epoch 38/200\n",
      "51/51 [==============================] - 1s 13ms/step - loss: 0.0670 - accuracy: 0.8715 - val_loss: 0.0367 - val_accuracy: 0.9950\n",
      "Epoch 39/200\n",
      "51/51 [==============================] - 1s 15ms/step - loss: 0.0656 - accuracy: 0.8783 - val_loss: 0.0290 - val_accuracy: 0.9474\n",
      "Epoch 40/200\n",
      "51/51 [==============================] - 1s 12ms/step - loss: 0.0631 - accuracy: 0.8684 - val_loss: 0.0266 - val_accuracy: 0.8922\n",
      "Epoch 41/200\n",
      "51/51 [==============================] - 1s 11ms/step - loss: 0.0626 - accuracy: 0.8901 - val_loss: 0.0374 - val_accuracy: 0.8459\n",
      "Epoch 42/200\n",
      "51/51 [==============================] - 1s 11ms/step - loss: 0.0619 - accuracy: 0.8518 - val_loss: 0.0317 - val_accuracy: 0.9937\n",
      "Epoch 43/200\n",
      "51/51 [==============================] - 1s 11ms/step - loss: 0.0601 - accuracy: 0.8752 - val_loss: 0.0241 - val_accuracy: 0.9925\n",
      "Epoch 44/200\n",
      "51/51 [==============================] - 1s 11ms/step - loss: 0.0597 - accuracy: 0.8999 - val_loss: 0.0219 - val_accuracy: 0.9850\n",
      "Epoch 45/200\n",
      "51/51 [==============================] - 1s 11ms/step - loss: 0.0603 - accuracy: 0.8950 - val_loss: 0.0369 - val_accuracy: 0.9925\n",
      "Epoch 46/200\n",
      "51/51 [==============================] - 1s 11ms/step - loss: 0.0585 - accuracy: 0.8783 - val_loss: 0.0257 - val_accuracy: 0.9912\n",
      "Epoch 47/200\n",
      "51/51 [==============================] - 1s 12ms/step - loss: 0.0609 - accuracy: 0.8925 - val_loss: 0.0339 - val_accuracy: 0.9962\n",
      "Epoch 48/200\n",
      "51/51 [==============================] - 1s 11ms/step - loss: 0.0602 - accuracy: 0.8728 - val_loss: 0.0229 - val_accuracy: 0.8922\n",
      "Epoch 49/200\n",
      "51/51 [==============================] - 1s 11ms/step - loss: 0.0582 - accuracy: 0.8876 - val_loss: 0.0254 - val_accuracy: 0.9975\n",
      "Epoch 50/200\n",
      "51/51 [==============================] - 1s 11ms/step - loss: 0.0579 - accuracy: 0.8826 - val_loss: 0.0263 - val_accuracy: 0.9925\n",
      "Epoch 51/200\n",
      "51/51 [==============================] - 1s 11ms/step - loss: 0.0563 - accuracy: 0.9036 - val_loss: 0.0265 - val_accuracy: 0.9098\n",
      "Epoch 52/200\n",
      "51/51 [==============================] - 1s 11ms/step - loss: 0.0585 - accuracy: 0.8851 - val_loss: 0.0206 - val_accuracy: 0.9348\n",
      "Epoch 53/200\n",
      "51/51 [==============================] - 1s 11ms/step - loss: 0.0564 - accuracy: 0.8796 - val_loss: 0.0157 - val_accuracy: 0.9975\n",
      "Epoch 54/200\n",
      "51/51 [==============================] - 1s 14ms/step - loss: 0.0557 - accuracy: 0.8863 - val_loss: 0.0301 - val_accuracy: 0.9950\n",
      "Epoch 55/200\n",
      "51/51 [==============================] - 1s 14ms/step - loss: 0.0569 - accuracy: 0.8907 - val_loss: 0.0287 - val_accuracy: 0.9912\n",
      "Epoch 56/200\n",
      "51/51 [==============================] - 1s 11ms/step - loss: 0.0586 - accuracy: 0.8931 - val_loss: 0.0211 - val_accuracy: 0.9975\n",
      "Epoch 57/200\n",
      "51/51 [==============================] - 1s 11ms/step - loss: 0.0583 - accuracy: 0.8999 - val_loss: 0.0242 - val_accuracy: 0.9975\n",
      "Epoch 58/200\n",
      "51/51 [==============================] - 1s 11ms/step - loss: 0.0564 - accuracy: 0.9086 - val_loss: 0.0230 - val_accuracy: 0.9975\n",
      "Epoch 59/200\n",
      "51/51 [==============================] - 1s 10ms/step - loss: 0.0566 - accuracy: 0.8660 - val_loss: 0.0270 - val_accuracy: 0.9975\n",
      "Epoch 60/200\n",
      "51/51 [==============================] - 1s 10ms/step - loss: 0.0570 - accuracy: 0.8888 - val_loss: 0.0167 - val_accuracy: 0.9987\n",
      "Epoch 61/200\n",
      "51/51 [==============================] - 1s 11ms/step - loss: 0.0547 - accuracy: 0.9098 - val_loss: 0.0170 - val_accuracy: 0.9987\n",
      "Epoch 62/200\n",
      "51/51 [==============================] - 1s 11ms/step - loss: 0.0542 - accuracy: 0.8931 - val_loss: 0.0166 - val_accuracy: 0.9975\n",
      "Epoch 63/200\n",
      "51/51 [==============================] - 1s 11ms/step - loss: 0.0551 - accuracy: 0.8851 - val_loss: 0.0251 - val_accuracy: 0.9937\n",
      "Epoch 64/200\n",
      "51/51 [==============================] - 1s 10ms/step - loss: 0.0551 - accuracy: 0.9024 - val_loss: 0.0260 - val_accuracy: 0.9937\n",
      "Epoch 65/200\n",
      "51/51 [==============================] - 1s 11ms/step - loss: 0.0540 - accuracy: 0.9172 - val_loss: 0.0231 - val_accuracy: 0.9862\n",
      "Epoch 66/200\n",
      "51/51 [==============================] - 1s 10ms/step - loss: 0.0521 - accuracy: 0.8944 - val_loss: 0.0167 - val_accuracy: 0.9950\n",
      "Epoch 67/200\n",
      "51/51 [==============================] - 1s 11ms/step - loss: 0.0535 - accuracy: 0.9209 - val_loss: 0.0215 - val_accuracy: 0.9950\n",
      "Epoch 68/200\n",
      "51/51 [==============================] - 1s 11ms/step - loss: 0.0534 - accuracy: 0.8931 - val_loss: 0.0137 - val_accuracy: 0.9950\n",
      "Epoch 69/200\n",
      "51/51 [==============================] - 1s 10ms/step - loss: 0.0529 - accuracy: 0.8993 - val_loss: 0.0237 - val_accuracy: 0.9975\n",
      "Epoch 70/200\n",
      "51/51 [==============================] - 1s 11ms/step - loss: 0.0524 - accuracy: 0.8826 - val_loss: 0.0188 - val_accuracy: 0.9975\n",
      "Epoch 71/200\n",
      "51/51 [==============================] - 1s 10ms/step - loss: 0.0512 - accuracy: 0.8783 - val_loss: 0.0322 - val_accuracy: 0.9862\n",
      "Epoch 72/200\n",
      "51/51 [==============================] - 1s 11ms/step - loss: 0.0535 - accuracy: 0.8882 - val_loss: 0.0221 - val_accuracy: 0.9975\n",
      "Epoch 73/200\n",
      "51/51 [==============================] - 1s 11ms/step - loss: 0.0537 - accuracy: 0.8863 - val_loss: 0.0173 - val_accuracy: 0.9937\n",
      "Epoch 74/200\n",
      "51/51 [==============================] - 1s 10ms/step - loss: 0.0525 - accuracy: 0.9148 - val_loss: 0.0227 - val_accuracy: 0.9950\n",
      "Epoch 75/200\n",
      "51/51 [==============================] - 1s 11ms/step - loss: 0.0509 - accuracy: 0.8987 - val_loss: 0.0128 - val_accuracy: 0.9962\n",
      "Epoch 76/200\n",
      "51/51 [==============================] - 1s 11ms/step - loss: 0.0507 - accuracy: 0.9018 - val_loss: 0.0253 - val_accuracy: 0.9950\n",
      "Epoch 77/200\n",
      "51/51 [==============================] - 1s 11ms/step - loss: 0.0531 - accuracy: 0.8894 - val_loss: 0.0193 - val_accuracy: 0.9962\n",
      "Epoch 78/200\n",
      "51/51 [==============================] - 1s 11ms/step - loss: 0.0511 - accuracy: 0.8721 - val_loss: 0.0151 - val_accuracy: 0.9962\n",
      "Epoch 79/200\n",
      "51/51 [==============================] - 1s 10ms/step - loss: 0.0514 - accuracy: 0.8882 - val_loss: 0.0140 - val_accuracy: 0.9962\n",
      "Epoch 80/200\n",
      "51/51 [==============================] - 1s 11ms/step - loss: 0.0518 - accuracy: 0.8820 - val_loss: 0.0152 - val_accuracy: 0.9975\n",
      "Epoch 81/200\n",
      "51/51 [==============================] - 1s 10ms/step - loss: 0.0511 - accuracy: 0.8758 - val_loss: 0.0156 - val_accuracy: 0.9925\n",
      "Epoch 82/200\n",
      "51/51 [==============================] - 1s 11ms/step - loss: 0.0528 - accuracy: 0.8938 - val_loss: 0.0178 - val_accuracy: 0.9937\n",
      "Epoch 83/200\n",
      "51/51 [==============================] - 1s 11ms/step - loss: 0.0509 - accuracy: 0.8697 - val_loss: 0.0224 - val_accuracy: 0.8634\n",
      "Epoch 84/200\n",
      "51/51 [==============================] - 1s 11ms/step - loss: 0.0519 - accuracy: 0.8851 - val_loss: 0.0181 - val_accuracy: 0.9950\n",
      "Epoch 85/200\n",
      "51/51 [==============================] - 1s 11ms/step - loss: 0.0513 - accuracy: 0.9092 - val_loss: 0.0167 - val_accuracy: 0.9950\n",
      "Epoch 86/200\n",
      "51/51 [==============================] - 1s 11ms/step - loss: 0.0509 - accuracy: 0.8919 - val_loss: 0.0191 - val_accuracy: 0.9950\n",
      "Epoch 87/200\n",
      "51/51 [==============================] - 1s 11ms/step - loss: 0.0501 - accuracy: 0.9141 - val_loss: 0.0147 - val_accuracy: 0.9925\n",
      "Epoch 88/200\n",
      "51/51 [==============================] - 1s 11ms/step - loss: 0.0507 - accuracy: 0.8857 - val_loss: 0.0266 - val_accuracy: 0.9962\n",
      "Epoch 89/200\n",
      "51/51 [==============================] - 1s 11ms/step - loss: 0.0510 - accuracy: 0.9074 - val_loss: 0.0234 - val_accuracy: 0.9937\n",
      "Epoch 90/200\n",
      "51/51 [==============================] - 1s 10ms/step - loss: 0.0515 - accuracy: 0.8845 - val_loss: 0.0143 - val_accuracy: 0.9887\n",
      "Epoch 91/200\n",
      "51/51 [==============================] - 1s 11ms/step - loss: 0.0499 - accuracy: 0.9006 - val_loss: 0.0242 - val_accuracy: 0.9862\n",
      "Epoch 92/200\n",
      "51/51 [==============================] - 1s 11ms/step - loss: 0.0507 - accuracy: 0.8901 - val_loss: 0.0141 - val_accuracy: 0.9962\n",
      "Epoch 93/200\n",
      "51/51 [==============================] - 1s 10ms/step - loss: 0.0494 - accuracy: 0.8882 - val_loss: 0.0150 - val_accuracy: 0.9912\n",
      "Epoch 94/200\n",
      "51/51 [==============================] - 1s 11ms/step - loss: 0.0501 - accuracy: 0.9006 - val_loss: 0.0176 - val_accuracy: 0.9875\n",
      "Epoch 95/200\n",
      "51/51 [==============================] - 1s 11ms/step - loss: 0.0479 - accuracy: 0.8635 - val_loss: 0.0234 - val_accuracy: 0.9987\n",
      "Epoch 96/200\n",
      "51/51 [==============================] - 1s 11ms/step - loss: 0.0493 - accuracy: 0.8820 - val_loss: 0.0162 - val_accuracy: 0.9937\n",
      "Epoch 97/200\n",
      "51/51 [==============================] - 1s 10ms/step - loss: 0.0512 - accuracy: 0.9166 - val_loss: 0.0186 - val_accuracy: 0.9975\n",
      "Epoch 98/200\n",
      "51/51 [==============================] - 1s 11ms/step - loss: 0.0499 - accuracy: 0.8833 - val_loss: 0.0172 - val_accuracy: 0.9950\n",
      "Epoch 99/200\n",
      "51/51 [==============================] - 1s 11ms/step - loss: 0.0487 - accuracy: 0.9024 - val_loss: 0.0133 - val_accuracy: 0.9937\n",
      "Epoch 100/200\n",
      "51/51 [==============================] - 1s 11ms/step - loss: 0.0489 - accuracy: 0.9006 - val_loss: 0.0207 - val_accuracy: 0.9925\n",
      "Epoch 101/200\n",
      "51/51 [==============================] - 1s 11ms/step - loss: 0.0485 - accuracy: 0.8956 - val_loss: 0.0181 - val_accuracy: 0.9962\n",
      "Epoch 102/200\n",
      "51/51 [==============================] - 1s 11ms/step - loss: 0.0475 - accuracy: 0.8993 - val_loss: 0.0140 - val_accuracy: 0.9900\n",
      "Epoch 103/200\n",
      "51/51 [==============================] - 1s 11ms/step - loss: 0.0497 - accuracy: 0.8808 - val_loss: 0.0181 - val_accuracy: 0.9925\n",
      "Epoch 104/200\n",
      "51/51 [==============================] - 1s 11ms/step - loss: 0.0491 - accuracy: 0.8993 - val_loss: 0.0190 - val_accuracy: 0.9975\n",
      "Epoch 105/200\n",
      "51/51 [==============================] - 1s 10ms/step - loss: 0.0484 - accuracy: 0.8728 - val_loss: 0.0241 - val_accuracy: 0.9937\n",
      "Epoch 106/200\n",
      "51/51 [==============================] - 1s 11ms/step - loss: 0.0511 - accuracy: 0.8907 - val_loss: 0.0224 - val_accuracy: 0.9900\n",
      "Epoch 107/200\n",
      "51/51 [==============================] - 1s 11ms/step - loss: 0.0475 - accuracy: 0.9018 - val_loss: 0.0170 - val_accuracy: 0.9962\n",
      "Epoch 108/200\n",
      "51/51 [==============================] - 1s 11ms/step - loss: 0.0481 - accuracy: 0.8808 - val_loss: 0.0274 - val_accuracy: 0.9925\n",
      "Epoch 109/200\n",
      "51/51 [==============================] - 1s 11ms/step - loss: 0.0490 - accuracy: 0.8987 - val_loss: 0.0136 - val_accuracy: 0.9900\n",
      "Epoch 110/200\n",
      "51/51 [==============================] - 1s 11ms/step - loss: 0.0479 - accuracy: 0.8882 - val_loss: 0.0182 - val_accuracy: 0.9962\n",
      "Epoch 111/200\n",
      "51/51 [==============================] - 1s 11ms/step - loss: 0.0494 - accuracy: 0.9043 - val_loss: 0.0108 - val_accuracy: 0.9950\n",
      "Epoch 112/200\n",
      "51/51 [==============================] - 1s 10ms/step - loss: 0.0466 - accuracy: 0.9098 - val_loss: 0.0164 - val_accuracy: 0.9925\n",
      "Epoch 113/200\n",
      "51/51 [==============================] - 1s 11ms/step - loss: 0.0484 - accuracy: 0.8845 - val_loss: 0.0153 - val_accuracy: 0.9937\n",
      "Epoch 114/200\n",
      "51/51 [==============================] - 1s 10ms/step - loss: 0.0472 - accuracy: 0.9024 - val_loss: 0.0168 - val_accuracy: 0.9900\n",
      "Epoch 115/200\n",
      "51/51 [==============================] - 1s 11ms/step - loss: 0.0481 - accuracy: 0.8913 - val_loss: 0.0151 - val_accuracy: 0.9887\n",
      "Epoch 116/200\n",
      "51/51 [==============================] - 1s 11ms/step - loss: 0.0482 - accuracy: 0.9018 - val_loss: 0.0340 - val_accuracy: 0.9236\n",
      "Epoch 117/200\n",
      "51/51 [==============================] - 1s 11ms/step - loss: 0.0510 - accuracy: 0.8765 - val_loss: 0.0132 - val_accuracy: 0.9975\n",
      "Epoch 118/200\n",
      "51/51 [==============================] - 1s 11ms/step - loss: 0.0469 - accuracy: 0.9067 - val_loss: 0.0162 - val_accuracy: 0.9950\n",
      "Epoch 119/200\n",
      "51/51 [==============================] - 1s 10ms/step - loss: 0.0482 - accuracy: 0.9024 - val_loss: 0.0143 - val_accuracy: 0.9887\n",
      "Epoch 120/200\n",
      "51/51 [==============================] - 1s 11ms/step - loss: 0.0462 - accuracy: 0.8931 - val_loss: 0.0132 - val_accuracy: 0.9912\n",
      "Epoch 121/200\n",
      "51/51 [==============================] - 1s 11ms/step - loss: 0.0476 - accuracy: 0.8901 - val_loss: 0.0187 - val_accuracy: 0.9875\n",
      "Epoch 122/200\n",
      "51/51 [==============================] - 1s 11ms/step - loss: 0.0464 - accuracy: 0.8721 - val_loss: 0.0181 - val_accuracy: 0.9875\n",
      "Epoch 123/200\n",
      "51/51 [==============================] - 1s 11ms/step - loss: 0.0487 - accuracy: 0.8820 - val_loss: 0.0196 - val_accuracy: 0.8759\n",
      "Epoch 124/200\n",
      "51/51 [==============================] - 1s 11ms/step - loss: 0.0471 - accuracy: 0.8981 - val_loss: 0.0101 - val_accuracy: 0.9912\n",
      "Epoch 125/200\n",
      "51/51 [==============================] - 1s 11ms/step - loss: 0.0463 - accuracy: 0.8746 - val_loss: 0.0191 - val_accuracy: 0.9962\n",
      "Epoch 126/200\n",
      "51/51 [==============================] - 1s 11ms/step - loss: 0.0473 - accuracy: 0.8740 - val_loss: 0.0194 - val_accuracy: 0.9937\n",
      "Epoch 127/200\n",
      "51/51 [==============================] - 1s 11ms/step - loss: 0.0488 - accuracy: 0.8678 - val_loss: 0.0148 - val_accuracy: 0.9962\n",
      "Epoch 128/200\n",
      "51/51 [==============================] - 1s 11ms/step - loss: 0.0463 - accuracy: 0.9043 - val_loss: 0.0212 - val_accuracy: 0.9912\n",
      "Epoch 129/200\n",
      "51/51 [==============================] - 1s 10ms/step - loss: 0.0480 - accuracy: 0.9098 - val_loss: 0.0213 - val_accuracy: 0.9950\n",
      "Epoch 130/200\n",
      "51/51 [==============================] - 1s 11ms/step - loss: 0.0468 - accuracy: 0.8870 - val_loss: 0.0174 - val_accuracy: 0.9900\n",
      "Epoch 131/200\n",
      "51/51 [==============================] - 1s 11ms/step - loss: 0.0460 - accuracy: 0.8907 - val_loss: 0.0212 - val_accuracy: 0.9887\n",
      "Epoch 132/200\n",
      "51/51 [==============================] - 1s 11ms/step - loss: 0.0479 - accuracy: 0.8944 - val_loss: 0.0181 - val_accuracy: 0.9875\n",
      "Epoch 133/200\n",
      "51/51 [==============================] - 1s 11ms/step - loss: 0.0473 - accuracy: 0.8777 - val_loss: 0.0166 - val_accuracy: 0.9912\n",
      "Epoch 134/200\n",
      "51/51 [==============================] - 1s 11ms/step - loss: 0.0474 - accuracy: 0.9141 - val_loss: 0.0184 - val_accuracy: 0.9900\n",
      "Epoch 135/200\n",
      "51/51 [==============================] - 1s 11ms/step - loss: 0.0459 - accuracy: 0.8826 - val_loss: 0.0121 - val_accuracy: 0.9887\n",
      "Epoch 136/200\n",
      "51/51 [==============================] - 1s 11ms/step - loss: 0.0467 - accuracy: 0.9006 - val_loss: 0.0131 - val_accuracy: 0.9950\n",
      "Epoch 137/200\n",
      "51/51 [==============================] - 1s 11ms/step - loss: 0.0459 - accuracy: 0.8919 - val_loss: 0.0145 - val_accuracy: 0.9850\n",
      "Epoch 138/200\n",
      "51/51 [==============================] - 1s 11ms/step - loss: 0.0463 - accuracy: 0.8765 - val_loss: 0.0118 - val_accuracy: 0.9912\n",
      "Epoch 139/200\n",
      "51/51 [==============================] - 1s 11ms/step - loss: 0.0463 - accuracy: 0.9036 - val_loss: 0.0156 - val_accuracy: 0.9950\n",
      "Epoch 140/200\n",
      "51/51 [==============================] - 1s 11ms/step - loss: 0.0474 - accuracy: 0.8870 - val_loss: 0.0201 - val_accuracy: 0.9862\n",
      "Epoch 141/200\n",
      "51/51 [==============================] - 1s 11ms/step - loss: 0.0451 - accuracy: 0.8796 - val_loss: 0.0123 - val_accuracy: 0.9925\n",
      "Epoch 142/200\n",
      "51/51 [==============================] - 1s 11ms/step - loss: 0.0467 - accuracy: 0.9080 - val_loss: 0.0225 - val_accuracy: 0.9950\n",
      "Epoch 143/200\n",
      "51/51 [==============================] - 1s 11ms/step - loss: 0.0471 - accuracy: 0.8833 - val_loss: 0.0162 - val_accuracy: 0.9837\n",
      "Epoch 144/200\n",
      "51/51 [==============================] - 1s 11ms/step - loss: 0.0468 - accuracy: 0.8888 - val_loss: 0.0111 - val_accuracy: 0.9925\n",
      "Epoch 145/200\n",
      "51/51 [==============================] - 1s 10ms/step - loss: 0.0473 - accuracy: 0.8968 - val_loss: 0.0112 - val_accuracy: 0.9950\n",
      "Epoch 146/200\n",
      "51/51 [==============================] - 1s 11ms/step - loss: 0.0448 - accuracy: 0.8845 - val_loss: 0.0077 - val_accuracy: 0.9962\n",
      "Epoch 147/200\n",
      "51/51 [==============================] - 1s 11ms/step - loss: 0.0465 - accuracy: 0.9006 - val_loss: 0.0205 - val_accuracy: 0.9925\n",
      "Epoch 148/200\n",
      "51/51 [==============================] - 1s 11ms/step - loss: 0.0452 - accuracy: 0.8907 - val_loss: 0.0193 - val_accuracy: 0.9875\n",
      "Epoch 149/200\n",
      "51/51 [==============================] - 1s 11ms/step - loss: 0.0473 - accuracy: 0.8796 - val_loss: 0.0119 - val_accuracy: 0.9875\n",
      "Epoch 150/200\n",
      "51/51 [==============================] - 1s 10ms/step - loss: 0.0476 - accuracy: 0.8882 - val_loss: 0.0164 - val_accuracy: 0.9900\n",
      "Epoch 151/200\n",
      "51/51 [==============================] - 1s 11ms/step - loss: 0.0450 - accuracy: 0.9030 - val_loss: 0.0140 - val_accuracy: 0.9900\n",
      "Epoch 152/200\n",
      "51/51 [==============================] - 1s 10ms/step - loss: 0.0446 - accuracy: 0.8746 - val_loss: 0.0124 - val_accuracy: 0.9875\n",
      "Epoch 153/200\n",
      "51/51 [==============================] - 1s 11ms/step - loss: 0.0449 - accuracy: 0.9012 - val_loss: 0.0140 - val_accuracy: 0.9900\n",
      "Epoch 154/200\n",
      "51/51 [==============================] - 1s 11ms/step - loss: 0.0450 - accuracy: 0.8962 - val_loss: 0.0103 - val_accuracy: 0.9925\n",
      "Epoch 155/200\n",
      "51/51 [==============================] - 1s 11ms/step - loss: 0.0451 - accuracy: 0.8758 - val_loss: 0.0122 - val_accuracy: 0.9900\n",
      "Epoch 156/200\n",
      "51/51 [==============================] - 1s 11ms/step - loss: 0.0446 - accuracy: 0.8907 - val_loss: 0.0132 - val_accuracy: 0.9912\n",
      "Epoch 157/200\n",
      "51/51 [==============================] - 1s 11ms/step - loss: 0.0469 - accuracy: 0.8993 - val_loss: 0.0144 - val_accuracy: 0.9875\n",
      "Epoch 158/200\n",
      "51/51 [==============================] - 1s 10ms/step - loss: 0.0449 - accuracy: 0.8796 - val_loss: 0.0155 - val_accuracy: 0.9925\n",
      "Epoch 159/200\n",
      "51/51 [==============================] - 1s 11ms/step - loss: 0.0454 - accuracy: 0.8857 - val_loss: 0.0115 - val_accuracy: 0.9900\n",
      "Epoch 160/200\n",
      "51/51 [==============================] - 1s 11ms/step - loss: 0.0472 - accuracy: 0.8826 - val_loss: 0.0195 - val_accuracy: 0.9875\n",
      "Epoch 161/200\n",
      "51/51 [==============================] - 1s 11ms/step - loss: 0.0464 - accuracy: 0.9018 - val_loss: 0.0124 - val_accuracy: 0.8095\n",
      "Epoch 162/200\n",
      "51/51 [==============================] - 1s 11ms/step - loss: 0.0458 - accuracy: 0.8635 - val_loss: 0.0164 - val_accuracy: 0.9962\n",
      "Epoch 163/200\n",
      "51/51 [==============================] - 1s 11ms/step - loss: 0.0449 - accuracy: 0.8857 - val_loss: 0.0118 - val_accuracy: 0.9875\n",
      "Epoch 164/200\n",
      "51/51 [==============================] - 1s 10ms/step - loss: 0.0443 - accuracy: 0.8938 - val_loss: 0.0135 - val_accuracy: 0.9950\n",
      "Epoch 165/200\n",
      "51/51 [==============================] - 1s 11ms/step - loss: 0.0451 - accuracy: 0.8684 - val_loss: 0.0145 - val_accuracy: 0.9887\n",
      "Epoch 166/200\n",
      "51/51 [==============================] - 1s 11ms/step - loss: 0.0446 - accuracy: 0.8796 - val_loss: 0.0171 - val_accuracy: 0.9962\n",
      "Epoch 167/200\n",
      "51/51 [==============================] - 1s 11ms/step - loss: 0.0453 - accuracy: 0.8808 - val_loss: 0.0180 - val_accuracy: 0.9950\n",
      "Epoch 168/200\n",
      "51/51 [==============================] - 1s 10ms/step - loss: 0.0430 - accuracy: 0.8771 - val_loss: 0.0146 - val_accuracy: 0.9962\n",
      "Epoch 169/200\n",
      "51/51 [==============================] - 1s 11ms/step - loss: 0.0484 - accuracy: 0.9006 - val_loss: 0.0286 - val_accuracy: 0.9875\n",
      "Epoch 170/200\n",
      "51/51 [==============================] - 1s 11ms/step - loss: 0.0475 - accuracy: 0.8771 - val_loss: 0.0158 - val_accuracy: 0.9937\n",
      "Epoch 171/200\n",
      "51/51 [==============================] - 1s 12ms/step - loss: 0.0434 - accuracy: 0.9018 - val_loss: 0.0149 - val_accuracy: 0.9937\n",
      "Epoch 172/200\n",
      "51/51 [==============================] - 1s 11ms/step - loss: 0.0455 - accuracy: 0.8765 - val_loss: 0.0115 - val_accuracy: 0.9875\n",
      "Epoch 173/200\n",
      "51/51 [==============================] - 1s 10ms/step - loss: 0.0456 - accuracy: 0.8734 - val_loss: 0.0156 - val_accuracy: 0.9912\n",
      "Epoch 174/200\n",
      "51/51 [==============================] - 1s 11ms/step - loss: 0.0455 - accuracy: 0.8925 - val_loss: 0.0127 - val_accuracy: 0.9875\n",
      "Epoch 175/200\n",
      "51/51 [==============================] - 1s 11ms/step - loss: 0.0463 - accuracy: 0.8783 - val_loss: 0.0149 - val_accuracy: 0.9937\n",
      "Epoch 176/200\n",
      "51/51 [==============================] - 1s 12ms/step - loss: 0.0452 - accuracy: 0.9055 - val_loss: 0.0102 - val_accuracy: 0.9950\n",
      "Epoch 177/200\n",
      "51/51 [==============================] - 1s 11ms/step - loss: 0.0447 - accuracy: 0.8728 - val_loss: 0.0134 - val_accuracy: 0.9925\n",
      "Epoch 178/200\n",
      "51/51 [==============================] - 1s 11ms/step - loss: 0.0447 - accuracy: 0.8814 - val_loss: 0.0112 - val_accuracy: 0.9937\n",
      "Epoch 179/200\n",
      "51/51 [==============================] - 1s 11ms/step - loss: 0.0443 - accuracy: 0.8709 - val_loss: 0.0141 - val_accuracy: 0.9887\n",
      "Epoch 180/200\n",
      "51/51 [==============================] - 1s 11ms/step - loss: 0.0446 - accuracy: 0.8820 - val_loss: 0.0269 - val_accuracy: 0.9887\n",
      "Epoch 181/200\n",
      "51/51 [==============================] - 1s 11ms/step - loss: 0.0459 - accuracy: 0.8876 - val_loss: 0.0127 - val_accuracy: 0.9937\n",
      "Epoch 182/200\n",
      "51/51 [==============================] - 1s 12ms/step - loss: 0.0460 - accuracy: 0.8802 - val_loss: 0.0134 - val_accuracy: 0.9875\n",
      "Epoch 183/200\n",
      "51/51 [==============================] - 1s 12ms/step - loss: 0.0447 - accuracy: 0.8888 - val_loss: 0.0140 - val_accuracy: 0.9975\n",
      "Epoch 184/200\n",
      "51/51 [==============================] - 1s 12ms/step - loss: 0.0452 - accuracy: 0.8697 - val_loss: 0.0179 - val_accuracy: 0.9875\n",
      "Epoch 185/200\n",
      "51/51 [==============================] - 1s 11ms/step - loss: 0.0438 - accuracy: 0.8734 - val_loss: 0.0116 - val_accuracy: 0.9950\n",
      "Epoch 186/200\n",
      "51/51 [==============================] - 1s 12ms/step - loss: 0.0441 - accuracy: 0.8876 - val_loss: 0.0136 - val_accuracy: 0.9900\n",
      "Epoch 187/200\n",
      "51/51 [==============================] - 1s 11ms/step - loss: 0.0464 - accuracy: 0.8691 - val_loss: 0.0142 - val_accuracy: 0.9925\n",
      "Epoch 188/200\n",
      "51/51 [==============================] - 1s 11ms/step - loss: 0.0457 - accuracy: 0.8777 - val_loss: 0.0101 - val_accuracy: 0.9950\n",
      "Epoch 189/200\n",
      "51/51 [==============================] - 1s 11ms/step - loss: 0.0440 - accuracy: 0.8771 - val_loss: 0.0151 - val_accuracy: 0.9900\n",
      "Epoch 190/200\n",
      "51/51 [==============================] - 1s 11ms/step - loss: 0.0443 - accuracy: 0.8857 - val_loss: 0.0109 - val_accuracy: 0.9975\n",
      "Epoch 191/200\n",
      "51/51 [==============================] - 1s 11ms/step - loss: 0.0441 - accuracy: 0.8561 - val_loss: 0.0140 - val_accuracy: 0.9912\n",
      "Epoch 192/200\n",
      "51/51 [==============================] - 1s 10ms/step - loss: 0.0460 - accuracy: 0.8839 - val_loss: 0.0190 - val_accuracy: 0.9925\n",
      "Epoch 193/200\n",
      "51/51 [==============================] - 1s 11ms/step - loss: 0.0431 - accuracy: 0.8796 - val_loss: 0.0172 - val_accuracy: 0.9912\n",
      "Epoch 194/200\n",
      "51/51 [==============================] - 1s 10ms/step - loss: 0.0447 - accuracy: 0.8888 - val_loss: 0.0113 - val_accuracy: 0.9900\n",
      "Epoch 195/200\n",
      "51/51 [==============================] - 1s 11ms/step - loss: 0.0438 - accuracy: 0.8598 - val_loss: 0.0136 - val_accuracy: 0.9950\n",
      "Epoch 196/200\n",
      "51/51 [==============================] - 1s 11ms/step - loss: 0.0445 - accuracy: 0.8789 - val_loss: 0.0189 - val_accuracy: 0.9875\n",
      "Epoch 197/200\n",
      "51/51 [==============================] - 1s 12ms/step - loss: 0.0443 - accuracy: 0.8746 - val_loss: 0.0103 - val_accuracy: 0.9950\n",
      "Epoch 198/200\n",
      "51/51 [==============================] - 1s 11ms/step - loss: 0.0449 - accuracy: 0.8684 - val_loss: 0.0108 - val_accuracy: 0.9900\n",
      "Epoch 199/200\n",
      "51/51 [==============================] - 1s 11ms/step - loss: 0.0449 - accuracy: 0.8783 - val_loss: 0.0118 - val_accuracy: 0.9937\n",
      "Epoch 200/200\n",
      "51/51 [==============================] - 1s 11ms/step - loss: 0.0437 - accuracy: 0.8629 - val_loss: 0.0158 - val_accuracy: 0.8647\n"
     ]
    }
   ],
   "source": [
    "history = model.fit(x_train,y_train,epochs=200,validation_data=(x_test,y_test))"
   ]
  },
  {
   "cell_type": "code",
   "execution_count": 14,
   "metadata": {},
   "outputs": [],
   "source": [
    "model.save('D:/浏览器下载/EDGE下载/LSTM_2ndtrail/model.h5')\n",
    "# model.save(args[\"model\"])"
   ]
  },
  {
   "cell_type": "code",
   "execution_count": 15,
   "metadata": {},
   "outputs": [],
   "source": [
    "from tensorflow.python.keras.models import load_model\n",
    "model1 = load_model('D:/浏览器下载/EDGE下载/LSTM_2ndtrail/model.h5')"
   ]
  },
  {
   "cell_type": "code",
   "execution_count": 16,
   "metadata": {},
   "outputs": [
    {
     "data": {
      "text/plain": [
       "array([[-0.9801821 , -0.94409645],\n",
       "       [-0.98440915, -0.9519472 ],\n",
       "       [ 0.93109614,  0.21914783],\n",
       "       ...,\n",
       "       [ 0.7608953 ,  0.91113627],\n",
       "       [-0.9792937 , -0.9430573 ],\n",
       "       [-0.70052385, -0.40942022]], dtype=float32)"
      ]
     },
     "execution_count": 16,
     "metadata": {},
     "output_type": "execute_result"
    }
   ],
   "source": [
    "result = model1.predict(x_test)\n",
    "result"
   ]
  },
  {
   "cell_type": "code",
   "execution_count": 17,
   "metadata": {},
   "outputs": [
    {
     "data": {
      "text/plain": [
       "array([[679865.44, 419300.62],\n",
       "       [679865.2 , 419298.28],\n",
       "       [679960.8 , 419643.03],\n",
       "       ...,\n",
       "       [679952.4 , 419846.72],\n",
       "       [679865.44, 419300.9 ],\n",
       "       [679879.4 , 419458.  ]], dtype=float32)"
      ]
     },
     "execution_count": 17,
     "metadata": {},
     "output_type": "execute_result"
    }
   ],
   "source": [
    "\n",
    "res_df = sc.inverse_transform(result)\n",
    "# res_df.reshape(new_df.shape[0],5,1)\n",
    "res_df\n"
   ]
  },
  {
   "cell_type": "code",
   "execution_count": 18,
   "metadata": {},
   "outputs": [
    {
     "name": "stdout",
     "output_type": "stream",
     "text": [
      "[[679865.2453 419295.482 ]\n",
      " [679865.028  419294.7702]\n",
      " [679956.5725 419615.6865]\n",
      " ...\n",
      " [679950.2281 419859.8091]\n",
      " [679865.2721 419295.5697]\n",
      " [679879.1503 419456.9592]]\n"
     ]
    }
   ],
   "source": [
    "y_test_actual=sc.inverse_transform(y_test)\n",
    "print(y_test_actual)\n",
    "# for i in range(len(result)):\n",
    "#     plt.scatter(result[0][i],result[1][i],c='r')\n",
    "#     plt.scatter(y_test[0][i],y_test[1][i],c='g')\n",
    "\n",
    "# plt.show()\n",
    "\n"
   ]
  },
  {
   "cell_type": "code",
   "execution_count": null,
   "metadata": {},
   "outputs": [],
   "source": []
  },
  {
   "cell_type": "code",
   "execution_count": 19,
   "metadata": {},
   "outputs": [
    {
     "data": {
      "image/png": "[encoded data removed]",
      "text/plain": [
       "<Figure size 640x480 with 1 Axes>"
      ]
     },
     "metadata": {},
     "output_type": "display_data"
    }
   ],
   "source": [
    "# 绘制预测值和实际值\n",
    "\n",
    "predicted_df = pd.DataFrame(data=res_df[0:,0:],index=[i for i in range(res_df.shape[0])],columns=['f'+str(i) for i in range(res_df.shape[1])])\n",
    "\n",
    "actual_df = pd.DataFrame(data=y_test_actual[0:,0:],index=[i for i in range(y_test_actual.shape[0])],columns=['f'+str(i) for i in range(y_test_actual.shape[1])])\n",
    "\n",
    "# for i in range(len(res_df)):\n",
    "# #   print(i)\n",
    "plt.scatter(x=predicted_df['f0'],y=predicted_df['f1'],c='r',s=0.1,alpha=0.5)\n",
    "plt.scatter(x=actual_df['f0'],y=actual_df['f1'],c='g',s=0.1,alpha=0.5)\n",
    "\n",
    "plt.show()"
   ]
  },
  {
   "cell_type": "code",
   "execution_count": 20,
   "metadata": {},
   "outputs": [
    {
     "data": {
      "image/png": "[encoded data removed]",
      "text/plain": [
       "<Figure size 640x480 with 1 Axes>"
      ]
     },
     "metadata": {},
     "output_type": "display_data"
    }
   ],
   "source": [
    "plt.plot(history.history['loss'])\n",
    "plt.show()"
   ]
  },
  {
   "cell_type": "code",
   "execution_count": 21,
   "metadata": {},
   "outputs": [
    {
     "name": "stdout",
     "output_type": "stream",
     "text": [
      "MSE: 20.148381402911415\n",
      "MAE: 2.352782957389579\n",
      "相关系数为： 0.9609421963731279\n",
      "R^2: 0.9985616449504419\n",
      "Correlation coefficient: 0.9609421963731279\n"
     ]
    }
   ],
   "source": [
    "import numpy as np\n",
    "from sklearn.metrics import mean_squared_error, mean_absolute_error, r2_score\n",
    "\n",
    "# # 定义真实定位数据和预测数据\n",
    "# true_pos = np.array([[1, 2], [3, 4], [5, 6]])\n",
    "# pred_pos = np.array([[0.5, 1.5], [3.2, 3.9], [4.9, 6.2]])\n",
    "\n",
    "# 计算均方误差\n",
    "mse = mean_squared_error(actual_df, predicted_df)\n",
    "print(\"MSE:\", mse)\n",
    "\n",
    "# 计算平均绝对误差\n",
    "mae = mean_absolute_error(actual_df, predicted_df)\n",
    "print(\"MAE:\", mae)\n",
    "\n",
    "# 计算相关系数矩阵\n",
    "corr_matrix = np.corrcoef(actual_df.T, predicted_df.T)\n",
    "corr_coefficient = corr_matrix[0, 1] # 取出相关系数值\n",
    "print(\"相关系数为：\", corr_coefficient) # 打印相关系数\n",
    "# 计算决定系数\n",
    "r2 = r2_score(actual_df, predicted_df)\n",
    "print(\"R^2:\", r2)\n",
    "\n",
    "import numpy as np\n",
    "\n",
    "# 将实际值和预测值分别存储在矩阵中\n",
    "actual_matrix = np.array(actual_df)\n",
    "predicted_matrix = np.array(predicted_df)\n",
    "correlation_matrix = np.corrcoef(actual_matrix, predicted_matrix, rowvar=False) # 计算相关系数（Pearson相关系数）\n",
    "correlation_coefficient = correlation_matrix[0, 1] # 提取相关系数矩阵中的相关系数\n",
    "print(\"Correlation coefficient:\", correlation_coefficient) # 打印相关系数\n",
    "\n"
   ]
  }
 ],
 "metadata": {
  "kernelspec": {
   "display_name": "Python 3",
   "language": "python",
   "name": "python3"
  },
  "language_info": {
   "codemirror_mode": {
    "name": "ipython",
    "version": 3
   },
   "file_extension": ".py",
   "mimetype": "text/x-python",
   "name": "python",
   "nbconvert_exporter": "python",
   "pygments_lexer": "ipython3",
   "version": "3.9.13"
  }
 },
 "nbformat": 4,
 "nbformat_minor": 2
}
